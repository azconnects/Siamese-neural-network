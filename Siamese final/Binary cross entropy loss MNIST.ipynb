{
 "cells": [
  {
   "cell_type": "code",
   "execution_count": null,
   "id": "53e3a949",
   "metadata": {},
   "outputs": [],
   "source": [
    "import keras as k\n",
    "import numpy as np \n",
    "from keras.models import Sequential, Model\n",
    "from keras.regularizers import l2\n",
    "import matplotlib.pyplot as plt\n",
    "from keras.optimizers import Adam\n",
    "import tensorflow as tf"
   ]
  },
  {
   "cell_type": "code",
   "execution_count": null,
   "id": "d3fb2836",
   "metadata": {},
   "outputs": [],
   "source": [
    "(x_train_master, y_train_master), (x_test_master, y_test_master) = tf.keras.datasets.fashion_mnist.load_data()"
   ]
  },
  {
   "cell_type": "code",
   "execution_count": null,
   "id": "cbfca2b1",
   "metadata": {},
   "outputs": [],
   "source": [
    "x_train_master = np.expand_dims(x_train_master, axis=3) / 255\n",
    "x_test_master = np.expand_dims(x_test_master, axis=3) / 255"
   ]
  },
  {
   "cell_type": "code",
   "execution_count": null,
   "id": "c55fc261",
   "metadata": {},
   "outputs": [],
   "source": [
    "def create_tuples(x, y, n_ways):\n",
    "  y = y.flatten()\n",
    "  x_t1 = []\n",
    "  x_t2 = []\n",
    "  target = []\n",
    "  length = len(y)\n",
    "  \n",
    "  for i in range(length):\n",
    "    cur_x, cur_y = x[i], y[i]\n",
    "    choices = np.random.choice(length, n_ways, replace=False)\n",
    "    choices_x, choices_y = x[choices], y[choices]\n",
    "    for j in range(n_ways):\n",
    "      _x, _y = choices_x[j], choices_y[j]\n",
    "      x_t1.append(cur_x)\n",
    "      x_t2.append(_x)\n",
    "      target.append(1 if cur_y == _y else 0)\n",
    "    \n",
    "  return [np.array(x_t1), np.array(x_t2)], np.array(target)\n",
    "\n",
    "def equalize_class_examples(x, y):\n",
    "  x1, x2 = x\n",
    "  y1 = np.where(y == 1) \n",
    "  \n",
    "  n = y1[0].shape[0]\n",
    "  y0 = np.where(y == 0)[0]\n",
    "  y0 = y0[:n]\n",
    "  \n",
    "  xa = np.vstack((x1[y1], x1[y0]))\n",
    "  xb = np.vstack((x2[y1], x2[y0]))\n",
    "  \n",
    "  yp = np.hstack((y[y1], y[y0]))\n",
    "  return [xa, xb], yp\n",
    "\n",
    "def get_training_data(sample_per_class=5, n_ways=5, batch_size = 32, valid_sample_per_class=2, test_sample_per_class=2):\n",
    "  train_x, train_y, valid_x, valid_y, test_x, test_y = None, None, None, None, None, None\n",
    "  \n",
    "  for i in range(10):\n",
    "    indices = np.argwhere(y_train_master == i)\n",
    "    choice = np.random.choice(indices.shape[0], sample_per_class + valid_sample_per_class, replace=False)\n",
    "    choice = indices[choice]\n",
    "\n",
    "    sub_train_x = x_train_master[choice[:sample_per_class]]\n",
    "    sub_train_y = y_train_master[choice[:sample_per_class]]\n",
    "    \n",
    "    sub_valid_x = x_train_master[choice[sample_per_class:]]\n",
    "    sub_valid_y = y_train_master[choice[sample_per_class:]]\n",
    "    \n",
    "    \n",
    "    \n",
    "    t_indices = np.argwhere(y_test_master == i)\n",
    "    t_choice = np.random.choice(t_indices.shape[0], test_sample_per_class, replace=False)\n",
    "    t_choice = t_indices[t_choice]\n",
    "    sub_test_x = x_test_master[t_choice]\n",
    "    sub_test_y = y_test_master[t_choice]\n",
    "    \n",
    "    sub_train_x, sub_train_y, sub_valid_x, sub_valid_y, sub_test_x, sub_test_y = np.squeeze(sub_train_x, axis=1), (sub_train_y), np.squeeze(sub_valid_x, axis=1), (sub_valid_y), np.squeeze(sub_test_x, axis=1), (sub_test_y)\n",
    "    print(train_x is None)\n",
    "    if(train_x is None):\n",
    "      train_x, train_y, valid_x, valid_y, test_x, test_y = sub_train_x, sub_train_y, sub_valid_x, sub_valid_y, sub_test_x, sub_test_y\n",
    "    else:\n",
    "      train_x = np.vstack((train_x, sub_train_x))\n",
    "      train_y = np.vstack((train_y, sub_train_y))\n",
    "  #     train_x.append(sub_train_x)\n",
    "  #     train_y.append(sub_train_y)\n",
    "\n",
    "      valid_x = np.vstack((valid_x, sub_valid_x))\n",
    "      valid_y = np.vstack((valid_y, sub_valid_y))\n",
    "  #     valid_x.append(sub_valid_x)\n",
    "  #     valid_y.append(sub_valid_y)\n",
    "\n",
    "      test_x = np.vstack((test_x, sub_test_x))\n",
    "      test_y = np.vstack((test_y, sub_test_y))\n",
    "\n",
    "  #     test_x.append(sub_test_x)\n",
    "  #     test_y.append(sub_test_y)\n",
    "  print(train_x.shape, train_y.shape)\n",
    "  train_x, train_y = create_tuples(train_x, train_y, n_ways)\n",
    "  train_x, train_y = equalize_class_examples(train_x, train_y)\n",
    "  valid_x, valid_y = create_tuples(valid_x, valid_y, n_ways)\n",
    "  valid_x, valid_y = equalize_class_examples(valid_x, valid_y)\n",
    "  test_x, test_y = create_tuples(test_x, test_y, n_ways)\n",
    "  test_x, test_y = equalize_class_examples(test_x, test_y)\n",
    "  \n",
    "  return train_x, train_y, valid_x, valid_y, test_x, test_y\n",
    "  \n",
    "    "
   ]
  },
  {
   "cell_type": "code",
   "execution_count": null,
   "id": "53127d39",
   "metadata": {},
   "outputs": [],
   "source": [
    "def visualize_data(data, data_class, n):\n",
    "  n = min(len(data[0]), n)\n",
    "  print(\"Same class: \", np.where(data_class ==1)[0].shape[0], \"Different class: \", np.where(data_class==0)[0].shape[0])\n",
    "  fig, ax = plt.subplots(n, 2,figsize=(10,40))\n",
    "  inp1, inp2 = data\n",
    "  for i in range(n):\n",
    "    ax[i, 0].imshow(np.squeeze(inp1[i]), cmap=\"gray\")\n",
    "    ax[i, 1].imshow(np.squeeze(inp2[i]), cmap=\"gray\")\n",
    "    # x_class = str(data_class[i].tolist())\n",
    "    # ax[i, 1].set_title(\"class \" + x_class)\n",
    "\n",
    "    ax[i, 0].set_axis_off()\n",
    "    ax[i, 1].set_axis_off()"
   ]
  },
  {
   "cell_type": "code",
   "execution_count": null,
   "id": "88da5b31",
   "metadata": {},
   "outputs": [],
   "source": [
    "train_x, train_y, valid_x, valid_y, test_x, test_y = get_training_data(sample_per_class=1, n_ways=10, batch_size = 32, valid_sample_per_class=20, test_sample_per_class=50)"
   ]
  },
  {
   "cell_type": "code",
   "execution_count": null,
   "id": "bcc04c99",
   "metadata": {},
   "outputs": [],
   "source": [
    "ip_shape = (28,28,1)\n",
    "model = get_classifier_model(ip_shape)\n",
    "\n",
    "optimizer = Adam(lr = 0.001)\n",
    "model.compile(loss=\"binary_crossentropy\",optimizer=optimizer, metrics=['accuracy'])"
   ]
  },
  {
   "cell_type": "code",
   "execution_count": null,
   "id": "09d40743",
   "metadata": {},
   "outputs": [],
   "source": [
    "hist = model.fit(train_x, train_y, epochs=20, validation_data=(valid_x, valid_y))"
   ]
  },
  {
   "cell_type": "code",
   "execution_count": null,
   "id": "2adfdc89",
   "metadata": {},
   "outputs": [],
   "source": [
    "plt.plot(hist.epoch, hist.history[\"loss\"], label=\"Train loss\")\n",
    "#plt.plot(hist.epoch, hist.history[\"val_loss\"], label=\"Validation loss\")\n",
    "plt.legend(loc='upper right')\n",
    "plt.xlabel(\"Epochs\")\n",
    "plt.ylabel(\"Loss\")"
   ]
  },
  {
   "cell_type": "code",
   "execution_count": null,
   "id": "62932dfe",
   "metadata": {},
   "outputs": [],
   "source": [
    "test_predictionss = model.predict(test_x)"
   ]
  },
  {
   "cell_type": "code",
   "execution_count": null,
   "id": "9f34bef3",
   "metadata": {},
   "outputs": [],
   "source": [
    "from sklearn.metrics import confusion_matrix\n",
    "import numpy as np\n",
    "\n",
    "confusion = confusion_matrix(test_y, np.argmax(test_predictionss, axis=1))\n",
    "print(confusion)"
   ]
  },
  {
   "cell_type": "code",
   "execution_count": null,
   "id": "e3819969",
   "metadata": {},
   "outputs": [],
   "source": [
    "import seaborn as sns\n",
    "sns.heatmap(confusion, annot=True)"
   ]
  },
  {
   "cell_type": "code",
   "execution_count": null,
   "id": "ed0a1f14",
   "metadata": {},
   "outputs": [],
   "source": []
  }
 ],
 "metadata": {
  "kernelspec": {
   "display_name": "Python 3",
   "language": "python",
   "name": "python3"
  },
  "language_info": {
   "codemirror_mode": {
    "name": "ipython",
    "version": 3
   },
   "file_extension": ".py",
   "mimetype": "text/x-python",
   "name": "python",
   "nbconvert_exporter": "python",
   "pygments_lexer": "ipython3",
   "version": "3.7.0"
  }
 },
 "nbformat": 4,
 "nbformat_minor": 5
}
