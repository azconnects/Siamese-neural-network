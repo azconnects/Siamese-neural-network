{
 "cells": [
  {
   "cell_type": "code",
   "execution_count": 1,
   "metadata": {},
   "outputs": [],
   "source": [
    "%load_ext autoreload\n",
    "%autoreload 2"
   ]
  },
  {
   "cell_type": "code",
   "execution_count": 2,
   "metadata": {},
   "outputs": [
    {
     "name": "stderr",
     "output_type": "stream",
     "text": [
      "c:\\users\\az connects\\appdata\\local\\programs\\python\\python37\\lib\\site-packages\\torchvision\\datasets\\mnist.py:498: UserWarning: The given NumPy array is not writeable, and PyTorch does not support non-writeable tensors. This means you can write to the underlying (supposedly non-writeable) NumPy array using the tensor. You may want to copy the array to protect its data or make it writeable before converting it to a tensor. This type of warning will be suppressed for the rest of this program. (Triggered internally at  ..\\torch\\csrc\\utils\\tensor_numpy.cpp:180.)\n",
      "  return torch.from_numpy(parsed.astype(m[2], copy=False)).view(*s)\n"
     ]
    }
   ],
   "source": [
    "from torchvision.datasets import MNIST\n",
    "from torchvision import transforms\n",
    "import torch\n",
    "from torch.optim import lr_scheduler\n",
    "import torch.optim as optim\n",
    "from torch.autograd import Variable\n",
    "\n",
    "from trainer_test import fit\n",
    "import numpy as np\n",
    "cuda = torch.cuda.is_available()\n",
    "\n",
    "%matplotlib inline\n",
    "import matplotlib\n",
    "import matplotlib.pyplot as plt\n",
    "mean, std = 0.1307, 0.3081\n",
    "\n",
    "train_dataset = MNIST('../data/MNIST', train=True, download=True,\n",
    "                             transform=transforms.Compose([\n",
    "                                 transforms.ToTensor(),\n",
    "                                 transforms.Normalize((mean,), (std,))\n",
    "                             ]))\n",
    "test_dataset = MNIST('../data/MNIST', train=False, download=True,\n",
    "                            transform=transforms.Compose([\n",
    "                                transforms.ToTensor(),\n",
    "                                transforms.Normalize((mean,), (std,))\n",
    "                            ]))\n",
    "n_classes = 10"
   ]
  },
  {
   "cell_type": "markdown",
   "metadata": {},
   "source": [
    "# Triplet network\n",
    "We'll train a triplet network, that takes an anchor, positive (same class as anchor) and negative (different class than anchor) examples. The objective is to learn embeddings such that the anchor is closer to the positive example than it is to the negative example by some margin value.\n",
    "\n",
    "![alt text](images/anchor_negative_positive.png \"Source: FaceNet\")\n",
    "Source: [2] *Schroff, Florian, Dmitry Kalenichenko, and James Philbin. [Facenet: A unified embedding for face recognition and clustering.](https://arxiv.org/abs/1503.03832) CVPR 2015.*\n",
    "\n",
    "**Triplet loss**:   $L_{triplet}(x_a, x_p, x_n) = max(0, m +  \\lVert f(x_a)-f(x_p)\\rVert_2^2 - \\lVert f(x_a)-f(x_n)\\rVert_2^2$\\)"
   ]
  },
  {
   "cell_type": "code",
   "execution_count": 3,
   "metadata": {},
   "outputs": [
    {
     "name": "stderr",
     "output_type": "stream",
     "text": [
      "c:\\users\\az connects\\appdata\\local\\programs\\python\\python37\\lib\\site-packages\\torchvision\\datasets\\mnist.py:52: UserWarning: train_labels has been renamed targets\n",
      "  warnings.warn(\"train_labels has been renamed targets\")\n",
      "c:\\users\\az connects\\appdata\\local\\programs\\python\\python37\\lib\\site-packages\\torchvision\\datasets\\mnist.py:62: UserWarning: train_data has been renamed data\n",
      "  warnings.warn(\"train_data has been renamed data\")\n",
      "c:\\users\\az connects\\appdata\\local\\programs\\python\\python37\\lib\\site-packages\\torchvision\\datasets\\mnist.py:57: UserWarning: test_labels has been renamed targets\n",
      "  warnings.warn(\"test_labels has been renamed targets\")\n",
      "c:\\users\\az connects\\appdata\\local\\programs\\python\\python37\\lib\\site-packages\\torchvision\\datasets\\mnist.py:67: UserWarning: test_data has been renamed data\n",
      "  warnings.warn(\"test_data has been renamed data\")\n"
     ]
    }
   ],
   "source": [
    "# Set up data loaders\n",
    "from datasets import TripletMNIST\n",
    "\n",
    "triplet_train_dataset = TripletMNIST(train_dataset) # Returns triplets of images\n",
    "triplet_test_dataset = TripletMNIST(test_dataset)\n",
    "batch_size = 10\n",
    "kwargs = {'num_workers': 1, 'pin_memory': True} if cuda else {}\n",
    "triplet_train_loader = torch.utils.data.DataLoader(triplet_train_dataset, batch_size=batch_size, shuffle=True, **kwargs)\n",
    "triplet_test_loader = torch.utils.data.DataLoader(triplet_test_dataset, batch_size=batch_size, shuffle=False, **kwargs)"
   ]
  },
  {
   "cell_type": "code",
   "execution_count": 6,
   "metadata": {},
   "outputs": [
    {
     "name": "stdout",
     "output_type": "stream",
     "text": [
      "10\n",
      "10\n",
      "None\n"
     ]
    }
   ],
   "source": [
    "batch_images1 = []\n",
    "batch_images2 = []\n",
    "batch_images3 = []\n",
    "\n",
    "for batch_idx, (data, target) in enumerate(triplet_train_loader):\n",
    "    target = target if len(target) > 0 else None\n",
    "        \n",
    "    if not type(data) in (tuple, list):\n",
    "        data = (data,)\n",
    "    print(len(data[0]))\n",
    "    print(len(data[1]))\n",
    "    batch_images1 = data[0]\n",
    "    batch_images2 = data[1]\n",
    "    batch_images3 = data[2]\n",
    "    print(target)\n",
    "    break\n"
   ]
  },
  {
   "cell_type": "code",
   "execution_count": 6,
   "metadata": {},
   "outputs": [
    {
     "data": {
      "image/png": "[encoded data removed]",
      "text/plain": [
       "<Figure size 432x288 with 3 Axes>"
      ]
     },
     "metadata": {
      "needs_background": "light"
     },
     "output_type": "display_data"
    },
    {
     "data": {
      "image/png": "[encoded data removed]",
      "text/plain": [
       "<Figure size 432x288 with 3 Axes>"
      ]
     },
     "metadata": {
      "needs_background": "light"
     },
     "output_type": "display_data"
    },
    {
     "data": {
      "image/png": "[encoded data removed]",
      "text/plain": [
       "<Figure size 432x288 with 3 Axes>"
      ]
     },
     "metadata": {
      "needs_background": "light"
     },
     "output_type": "display_data"
    },
    {
     "data": {
      "image/png": "[encoded data removed]",
      "text/plain": [
       "<Figure size 432x288 with 3 Axes>"
      ]
     },
     "metadata": {
      "needs_background": "light"
     },
     "output_type": "display_data"
    },
    {
     "data": {
      "image/png": "[encoded data removed]",
      "text/plain": [
       "<Figure size 432x288 with 3 Axes>"
      ]
     },
     "metadata": {
      "needs_background": "light"
     },
     "output_type": "display_data"
    },
    {
     "data": {
      "image/png": "[encoded data removed]",
      "text/plain": [
       "<Figure size 432x288 with 3 Axes>"
      ]
     },
     "metadata": {
      "needs_background": "light"
     },
     "output_type": "display_data"
    },
    {
     "data": {
      "image/png": "[encoded data removed]",
      "text/plain": [
       "<Figure size 432x288 with 3 Axes>"
      ]
     },
     "metadata": {
      "needs_background": "light"
     },
     "output_type": "display_data"
    },
    {
     "data": {
      "image/png": "[encoded data removed]",
      "text/plain": [
       "<Figure size 432x288 with 3 Axes>"
      ]
     },
     "metadata": {
      "needs_background": "light"
     },
     "output_type": "display_data"
    },
    {
     "data": {
      "image/png": "[encoded data removed]",
      "text/plain": [
       "<Figure size 432x288 with 3 Axes>"
      ]
     },
     "metadata": {
      "needs_background": "light"
     },
     "output_type": "display_data"
    },
    {
     "data": {
      "image/png": "[encoded data removed]",
      "text/plain": [
       "<Figure size 432x288 with 3 Axes>"
      ]
     },
     "metadata": {
      "needs_background": "light"
     },
     "output_type": "display_data"
    }
   ],
   "source": [
    "ind = 0\n",
    "for i in range(len(batch_images1)):\n",
    "    plt.subplot(131)\n",
    "    plt.title(\"anchor image\")\n",
    "    plt.imshow(batch_images1[i].reshape(28,28),cmap=\"gray\")\n",
    "    plt.subplot(132)\n",
    "    plt.title(\"positive image\")\n",
    "    plt.imshow(batch_images2[i].reshape(28,28),cmap=\"gray\")\n",
    "    plt.subplot(133)\n",
    "    plt.title(\"negative image\")\n",
    "    plt.imshow(batch_images3[i].reshape(28,28),cmap=\"gray\")\n",
    "    plt.show()\n"
   ]
  },
  {
   "cell_type": "markdown",
   "metadata": {},
   "source": [
    "# Training"
   ]
  },
  {
   "cell_type": "code",
   "execution_count": 7,
   "metadata": {},
   "outputs": [],
   "source": [
    "# Set up data loaders\n",
    "from datasets import TripletMNIST\n",
    "\n",
    "triplet_train_dataset = TripletMNIST(train_dataset) # Returns triplets of images\n",
    "triplet_test_dataset = TripletMNIST(test_dataset)\n",
    "batch_size = 128\n",
    "kwargs = {'num_workers': 1, 'pin_memory': True} if cuda else {}\n",
    "triplet_train_loader = torch.utils.data.DataLoader(triplet_train_dataset, batch_size=batch_size, shuffle=True, **kwargs)\n",
    "triplet_test_loader = torch.utils.data.DataLoader(triplet_test_dataset, batch_size=batch_size, shuffle=False, **kwargs)\n",
    "\n",
    "# Set up the network and training parameters\n",
    "from networks import EmbeddingNet, TripletNet\n",
    "from losses import TripletLoss\n",
    "\n",
    "margin = 1.\n",
    "embedding_net = EmbeddingNet()\n",
    "model = TripletNet(embedding_net)\n",
    "if cuda:\n",
    "    model.cuda()\n",
    "loss_fn = TripletLoss(margin)\n",
    "lr = 1e-3\n",
    "optimizer = optim.Adam(model.parameters(), lr=lr)\n",
    "scheduler = lr_scheduler.StepLR(optimizer, 8, gamma=0.1, last_epoch=-1)\n",
    "n_epochs = 20\n",
    "log_interval = 100"
   ]
  },
  {
   "cell_type": "code",
   "execution_count": 8,
   "metadata": {},
   "outputs": [
    {
     "name": "stderr",
     "output_type": "stream",
     "text": [
      "c:\\users\\az connects\\appdata\\local\\programs\\python\\python37\\lib\\site-packages\\torch\\optim\\lr_scheduler.py:134: UserWarning: Detected call of `lr_scheduler.step()` before `optimizer.step()`. In PyTorch 1.1.0 and later, you should call them in the opposite order: `optimizer.step()` before `lr_scheduler.step()`.  Failure to do this will result in PyTorch skipping the first value of the learning rate schedule. See more details at https://pytorch.org/docs/stable/optim.html#how-to-adjust-learning-rate\n",
      "  \"https://pytorch.org/docs/stable/optim.html#how-to-adjust-learning-rate\", UserWarning)\n",
      "c:\\users\\az connects\\appdata\\local\\programs\\python\\python37\\lib\\site-packages\\torch\\nn\\functional.py:718: UserWarning: Named tensors and all their associated APIs are an experimental feature and subject to change. Please do not use them for anything important until they are released as stable. (Triggered internally at  ..\\c10/core/TensorImpl.h:1156.)\n",
      "  return torch.max_pool2d(input, kernel_size, stride, padding, dilation, ceil_mode)\n"
     ]
    },
    {
     "name": "stdout",
     "output_type": "stream",
     "text": [
      "Train: [0/60000 (0%)]\tLoss: 0.999222\n",
      "Train: [12800/60000 (21%)]\tLoss: 0.317975\n",
      "Train: [25600/60000 (43%)]\tLoss: 0.147083\n",
      "Train: [38400/60000 (64%)]\tLoss: 0.100515\n",
      "Train: [51200/60000 (85%)]\tLoss: 0.075072\n",
      "Epoch: 1/20. Train set: Average loss: 0.1482\n",
      "Epoch: 1/20. Validation set: Average loss: 0.0589\n",
      "Train: [0/60000 (0%)]\tLoss: 0.084144\n",
      "Train: [12800/60000 (21%)]\tLoss: 0.054988\n",
      "Train: [25600/60000 (43%)]\tLoss: 0.047690\n",
      "Train: [38400/60000 (64%)]\tLoss: 0.048389\n",
      "Train: [51200/60000 (85%)]\tLoss: 0.041842\n",
      "Epoch: 2/20. Train set: Average loss: 0.0478\n",
      "Epoch: 2/20. Validation set: Average loss: 0.0310\n",
      "Train: [0/60000 (0%)]\tLoss: 0.028060\n",
      "Train: [12800/60000 (21%)]\tLoss: 0.034172\n",
      "Train: [25600/60000 (43%)]\tLoss: 0.030791\n",
      "Train: [38400/60000 (64%)]\tLoss: 0.029380\n",
      "Train: [51200/60000 (85%)]\tLoss: 0.027444\n",
      "Epoch: 3/20. Train set: Average loss: 0.0300\n",
      "Epoch: 3/20. Validation set: Average loss: 0.0463\n",
      "Train: [0/60000 (0%)]\tLoss: 0.035914\n",
      "Train: [12800/60000 (21%)]\tLoss: 0.026739\n",
      "Train: [25600/60000 (43%)]\tLoss: 0.025779\n",
      "Train: [38400/60000 (64%)]\tLoss: 0.021916\n",
      "Train: [51200/60000 (85%)]\tLoss: 0.027741\n",
      "Epoch: 4/20. Train set: Average loss: 0.0254\n",
      "Epoch: 4/20. Validation set: Average loss: 0.0263\n",
      "Train: [0/60000 (0%)]\tLoss: 0.003308\n",
      "Train: [12800/60000 (21%)]\tLoss: 0.018515\n",
      "Train: [25600/60000 (43%)]\tLoss: 0.023319\n",
      "Train: [38400/60000 (64%)]\tLoss: 0.017900\n",
      "Train: [51200/60000 (85%)]\tLoss: 0.020310\n",
      "Epoch: 5/20. Train set: Average loss: 0.0201\n",
      "Epoch: 5/20. Validation set: Average loss: 0.0259\n",
      "Train: [0/60000 (0%)]\tLoss: 0.024180\n",
      "Train: [12800/60000 (21%)]\tLoss: 0.014346\n",
      "Train: [25600/60000 (43%)]\tLoss: 0.018314\n",
      "Train: [38400/60000 (64%)]\tLoss: 0.015945\n",
      "Train: [51200/60000 (85%)]\tLoss: 0.016496\n",
      "Epoch: 6/20. Train set: Average loss: 0.0166\n",
      "Epoch: 6/20. Validation set: Average loss: 0.0297\n",
      "Train: [0/60000 (0%)]\tLoss: 0.001572\n",
      "Train: [12800/60000 (21%)]\tLoss: 0.014072\n",
      "Train: [25600/60000 (43%)]\tLoss: 0.019433\n",
      "Train: [38400/60000 (64%)]\tLoss: 0.013807\n",
      "Train: [51200/60000 (85%)]\tLoss: 0.015489\n",
      "Epoch: 7/20. Train set: Average loss: 0.0152\n",
      "Epoch: 7/20. Validation set: Average loss: 0.0283\n",
      "Train: [0/60000 (0%)]\tLoss: 0.000000\n",
      "Train: [12800/60000 (21%)]\tLoss: 0.011383\n",
      "Train: [25600/60000 (43%)]\tLoss: 0.007427\n",
      "Train: [38400/60000 (64%)]\tLoss: 0.008801\n",
      "Train: [51200/60000 (85%)]\tLoss: 0.005456\n",
      "Epoch: 8/20. Train set: Average loss: 0.0080\n",
      "Epoch: 8/20. Validation set: Average loss: 0.0178\n",
      "Train: [0/60000 (0%)]\tLoss: 0.000000\n",
      "Train: [12800/60000 (21%)]\tLoss: 0.006489\n",
      "Train: [25600/60000 (43%)]\tLoss: 0.005326\n",
      "Train: [38400/60000 (64%)]\tLoss: 0.005445\n",
      "Train: [51200/60000 (85%)]\tLoss: 0.005429\n",
      "Epoch: 9/20. Train set: Average loss: 0.0055\n",
      "Epoch: 9/20. Validation set: Average loss: 0.0148\n",
      "Train: [0/60000 (0%)]\tLoss: 0.030946\n",
      "Train: [12800/60000 (21%)]\tLoss: 0.004380\n",
      "Train: [25600/60000 (43%)]\tLoss: 0.004312\n",
      "Train: [38400/60000 (64%)]\tLoss: 0.004813\n",
      "Train: [51200/60000 (85%)]\tLoss: 0.004716\n",
      "Epoch: 10/20. Train set: Average loss: 0.0046\n",
      "Epoch: 10/20. Validation set: Average loss: 0.0133\n",
      "Train: [0/60000 (0%)]\tLoss: 0.000000\n",
      "Train: [12800/60000 (21%)]\tLoss: 0.004420\n",
      "Train: [25600/60000 (43%)]\tLoss: 0.004247\n",
      "Train: [38400/60000 (64%)]\tLoss: 0.003491\n",
      "Train: [51200/60000 (85%)]\tLoss: 0.003951\n",
      "Epoch: 11/20. Train set: Average loss: 0.0040\n",
      "Epoch: 11/20. Validation set: Average loss: 0.0124\n",
      "Train: [0/60000 (0%)]\tLoss: 0.013836\n",
      "Train: [12800/60000 (21%)]\tLoss: 0.004770\n",
      "Train: [25600/60000 (43%)]\tLoss: 0.002835\n",
      "Train: [38400/60000 (64%)]\tLoss: 0.004913\n",
      "Train: [51200/60000 (85%)]\tLoss: 0.002318\n",
      "Epoch: 12/20. Train set: Average loss: 0.0035\n",
      "Epoch: 12/20. Validation set: Average loss: 0.0147\n",
      "Train: [0/60000 (0%)]\tLoss: 0.000000\n",
      "Train: [12800/60000 (21%)]\tLoss: 0.004399\n",
      "Train: [25600/60000 (43%)]\tLoss: 0.002938\n",
      "Train: [38400/60000 (64%)]\tLoss: 0.003436\n",
      "Train: [51200/60000 (85%)]\tLoss: 0.003567\n",
      "Epoch: 13/20. Train set: Average loss: 0.0035\n",
      "Epoch: 13/20. Validation set: Average loss: 0.0134\n",
      "Train: [0/60000 (0%)]\tLoss: 0.000000\n",
      "Train: [12800/60000 (21%)]\tLoss: 0.002680\n",
      "Train: [25600/60000 (43%)]\tLoss: 0.003374\n",
      "Train: [38400/60000 (64%)]\tLoss: 0.003244\n",
      "Train: [51200/60000 (85%)]\tLoss: 0.004408\n",
      "Epoch: 14/20. Train set: Average loss: 0.0036\n",
      "Epoch: 14/20. Validation set: Average loss: 0.0134\n",
      "Train: [0/60000 (0%)]\tLoss: 0.000000\n",
      "Train: [12800/60000 (21%)]\tLoss: 0.003870\n",
      "Train: [25600/60000 (43%)]\tLoss: 0.002600\n",
      "Train: [38400/60000 (64%)]\tLoss: 0.002666\n",
      "Train: [51200/60000 (85%)]\tLoss: 0.002686\n",
      "Epoch: 15/20. Train set: Average loss: 0.0027\n",
      "Epoch: 15/20. Validation set: Average loss: 0.0148\n",
      "Train: [0/60000 (0%)]\tLoss: 0.000000\n",
      "Train: [12800/60000 (21%)]\tLoss: 0.002186\n",
      "Train: [25600/60000 (43%)]\tLoss: 0.002012\n",
      "Train: [38400/60000 (64%)]\tLoss: 0.002342\n",
      "Train: [51200/60000 (85%)]\tLoss: 0.001713\n",
      "Epoch: 16/20. Train set: Average loss: 0.0020\n",
      "Epoch: 16/20. Validation set: Average loss: 0.0141\n",
      "Train: [0/60000 (0%)]\tLoss: 0.005759\n",
      "Train: [12800/60000 (21%)]\tLoss: 0.002162\n",
      "Train: [25600/60000 (43%)]\tLoss: 0.002359\n",
      "Train: [38400/60000 (64%)]\tLoss: 0.001871\n",
      "Train: [51200/60000 (85%)]\tLoss: 0.004001\n",
      "Epoch: 17/20. Train set: Average loss: 0.0027\n",
      "Epoch: 17/20. Validation set: Average loss: 0.0141\n",
      "Train: [0/60000 (0%)]\tLoss: 0.000000\n",
      "Train: [12800/60000 (21%)]\tLoss: 0.002570\n",
      "Train: [25600/60000 (43%)]\tLoss: 0.002770\n",
      "Train: [38400/60000 (64%)]\tLoss: 0.001734\n",
      "Train: [51200/60000 (85%)]\tLoss: 0.002665\n",
      "Epoch: 18/20. Train set: Average loss: 0.0024\n",
      "Epoch: 18/20. Validation set: Average loss: 0.0143\n",
      "Train: [0/60000 (0%)]\tLoss: 0.000000\n",
      "Train: [12800/60000 (21%)]\tLoss: 0.003343\n",
      "Train: [25600/60000 (43%)]\tLoss: 0.002245\n",
      "Train: [38400/60000 (64%)]\tLoss: 0.001796\n",
      "Train: [51200/60000 (85%)]\tLoss: 0.002746\n",
      "Epoch: 19/20. Train set: Average loss: 0.0025\n",
      "Epoch: 19/20. Validation set: Average loss: 0.0137\n",
      "Train: [0/60000 (0%)]\tLoss: 0.000000\n",
      "Train: [12800/60000 (21%)]\tLoss: 0.001813\n",
      "Train: [25600/60000 (43%)]\tLoss: 0.002009\n",
      "Train: [38400/60000 (64%)]\tLoss: 0.001763\n",
      "Train: [51200/60000 (85%)]\tLoss: 0.002728\n",
      "Epoch: 20/20. Train set: Average loss: 0.0021\n",
      "Epoch: 20/20. Validation set: Average loss: 0.0137\n"
     ]
    }
   ],
   "source": [
    "epochlosses = fit(triplet_train_loader, triplet_test_loader, model, loss_fn, optimizer, scheduler, n_epochs, cuda, log_interval)"
   ]
  },
  {
   "cell_type": "code",
   "execution_count": 12,
   "metadata": {},
   "outputs": [
    {
     "ename": "TypeError",
     "evalue": "'NoneType' object is not iterable",
     "output_type": "error",
     "traceback": [
      "\u001b[1;31m---------------------------------------------------------------------------\u001b[0m",
      "\u001b[1;31mTypeError\u001b[0m                                 Traceback (most recent call last)",
      "\u001b[1;32m<ipython-input-12-dbcfbbe6ef4d>\u001b[0m in \u001b[0;36m<module>\u001b[1;34m\u001b[0m\n\u001b[0;32m      2\u001b[0m \u001b[0mepochs\u001b[0m \u001b[1;33m=\u001b[0m \u001b[1;33m[\u001b[0m\u001b[1;33m]\u001b[0m\u001b[1;33m\u001b[0m\u001b[0m\n\u001b[0;32m      3\u001b[0m \u001b[0mlosses\u001b[0m \u001b[1;33m=\u001b[0m \u001b[1;33m[\u001b[0m\u001b[1;33m]\u001b[0m\u001b[1;33m\u001b[0m\u001b[0m\n\u001b[1;32m----> 4\u001b[1;33m \u001b[1;32mfor\u001b[0m \u001b[0mepoch\u001b[0m\u001b[1;33m,\u001b[0m\u001b[0mloss\u001b[0m \u001b[1;32min\u001b[0m \u001b[0mepochlosses\u001b[0m\u001b[1;33m:\u001b[0m\u001b[1;33m\u001b[0m\u001b[0m\n\u001b[0m\u001b[0;32m      5\u001b[0m     \u001b[0mepochs\u001b[0m\u001b[1;33m.\u001b[0m\u001b[0mappend\u001b[0m\u001b[1;33m(\u001b[0m\u001b[0mepoch\u001b[0m\u001b[1;33m)\u001b[0m\u001b[1;33m\u001b[0m\u001b[0m\n\u001b[0;32m      6\u001b[0m     \u001b[0mlosses\u001b[0m\u001b[1;33m.\u001b[0m\u001b[0mappend\u001b[0m\u001b[1;33m(\u001b[0m\u001b[0mloss\u001b[0m\u001b[1;33m[\u001b[0m\u001b[1;33m-\u001b[0m\u001b[1;36m1\u001b[0m\u001b[1;33m]\u001b[0m\u001b[1;33m)\u001b[0m\u001b[1;33m\u001b[0m\u001b[0m\n",
      "\u001b[1;31mTypeError\u001b[0m: 'NoneType' object is not iterable"
     ]
    }
   ],
   "source": [
    "import matplotlib.pyplot as plt \n",
    "epochs = []\n",
    "losses = []\n",
    "for epoch,loss in epochlosses:\n",
    "    epochs.append(epoch)\n",
    "    losses.append(loss[-1])\n",
    "plt.plot(epochs,losses)\n",
    "plt.show()\n"
   ]
  },
  {
   "cell_type": "code",
   "execution_count": null,
   "metadata": {},
   "outputs": [],
   "source": [
    "train_embeddings_ocl, train_labels_ocl = extract_embeddings(train_loader, model)\n",
    "plot_embeddings(train_embeddings_ocl, train_labels_ocl)\n",
    "val_embeddings_ocl, val_labels_ocl = extract_embeddings(test_loader, model)\n",
    "plot_embeddings(val_embeddings_ocl, val_labels_ocl)"
   ]
  },
  {
   "cell_type": "code",
   "execution_count": null,
   "metadata": {},
   "outputs": [],
   "source": [
    "torch.save(model.state_dict(),\"triplet_MNIST\")"
   ]
  },
  {
   "cell_type": "code",
   "execution_count": null,
   "metadata": {},
   "outputs": [],
   "source": [
    "model.load_state_dict(torch.load(\"triplet_MNIST\"))"
   ]
  },
  {
   "cell_type": "markdown",
   "metadata": {},
   "source": [
    "# Results"
   ]
  },
  {
   "cell_type": "code",
   "execution_count": null,
   "metadata": {},
   "outputs": [],
   "source": [
    "with torch.no_grad():\n",
    "        model.eval()\n",
    "        difference_coeffs = np.zeros((len(triplet_test_loader.dataset), 2, 2))\n",
    "        k=0\n",
    "        for batch_idx, (data,target) in enumerate(triplet_test_loader):\n",
    "            target = target if len(target) > 0 else None\n",
    "            if not type(data) in (tuple, list):\n",
    "                data = (data,)\n",
    "            images0 = data[0].cuda()\n",
    "            images1 = data[1].cuda()\n",
    "            images2 = data[2].cuda()\n",
    "            img0embeddings = model.get_embedding(images0).data.cpu().numpy()\n",
    "            img1embeddings = model.get_embedding(images1).data.cpu().numpy()\n",
    "            img2embeddings = model.get_embedding(images2).data.cpu().numpy()\n",
    "            \n",
    "            diff = np.array([])\n",
    "            \n",
    "            #for every image set in the batch\n",
    "            for i in range(len(img0embeddings)):\n",
    "                distance_positive = np.square(img0embeddings[i][0]-img1embeddings[i][0]) + np.square(img0embeddings[i][1]-img1embeddings[i][1])\n",
    "                distance_negative = np.square(img0embeddings[i][0]-img2embeddings[i][0]) + np.square(img0embeddings[i][1]-img2embeddings[i][1]) \n",
    "                dist_tar = np.array([[distance_positive,1],[distance_negative,0]])\n",
    "                diff = np.append(diff,dist_tar)\n",
    "\n",
    "            # print(diff.shape)\n",
    "            diff = np.reshape(diff, (-1, 2, 2))\n",
    "            difference_coeffs[k:k+len(images0)] = diff\n",
    "            k += len(images0)"
   ]
  },
  {
   "cell_type": "code",
   "execution_count": null,
   "metadata": {},
   "outputs": [],
   "source": [
    "print(len(difference_coeffs))\n",
    "for i in range(2):\n",
    "    sample = triplet_test_loader.dataset[i]\n",
    "    fig1, (ax1, ax2, ax3) = plt.subplots(nrows=1, ncols=3) \n",
    "    plt.title(\"dp: \" + str(difference_coeffs[i][0])+ \" dn: \" + str(difference_coeffs[i][1]))\n",
    "    ax1.imshow(sample[0][0].reshape(28,28),\"gray\")\n",
    "    ax2.imshow(sample[0][1].reshape(28,28),\"gray\")\n",
    "    ax3.imshow(sample[0][2].reshape(28,28),\"gray\")\n",
    "\n",
    "for i in range(1000,1001):\n",
    "    sample = triplet_test_loader.dataset[i]\n",
    "    fig1, (ax1, ax2, ax3) = plt.subplots(nrows=1, ncols=3) \n",
    "    plt.title(\"dp: \" + str(difference_coeffs[i][0])+ \" dn: \" + str(difference_coeffs[i][1]))\n",
    "    ax1.imshow(sample[0][0].reshape(28,28),\"gray\")\n",
    "    ax2.imshow(sample[0][1].reshape(28,28),\"gray\")\n",
    "    ax3.imshow(sample[0][2].reshape(28,28),\"gray\")\n",
    "    \n",
    "for i in range(2000,2002):\n",
    "    sample = triplet_test_loader.dataset[i]\n",
    "    fig1, (ax1, ax2, ax3) = plt.subplots(nrows=1, ncols=3) \n",
    "    plt.title(\"dp: \" + str(difference_coeffs[i][0])+ \" dn: \" + str(difference_coeffs[i][1]))\n",
    "    ax1.imshow(sample[0][0].reshape(28,28),\"gray\")\n",
    "    ax2.imshow(sample[0][1].reshape(28,28),\"gray\")\n",
    "    ax3.imshow(sample[0][2].reshape(28,28),\"gray\")\n",
    "    \n",
    "for i in range(3000,3002):\n",
    "    sample = triplet_test_loader.dataset[i]\n",
    "    fig1, (ax1, ax2, ax3) = plt.subplots(nrows=1, ncols=3) \n",
    "    plt.title(\"dp: \" + str(difference_coeffs[i][0])+ \" dn: \" + str(difference_coeffs[i][1]))\n",
    "    ax1.imshow(sample[0][0].reshape(28,28),\"gray\")\n",
    "    ax2.imshow(sample[0][1].reshape(28,28),\"gray\")\n",
    "    ax3.imshow(sample[0][2].reshape(28,28),\"gray\")\n",
    "    \n",
    "for i in range(4000,4002):\n",
    "    sample = triplet_test_loader.dataset[i]\n",
    "    fig1, (ax1, ax2, ax3) = plt.subplots(nrows=1, ncols=3) \n",
    "    plt.title(\"dp: \" + str(difference_coeffs[i][0])+ \" dn: \" + str(difference_coeffs[i][1]))\n",
    "    ax1.imshow(sample[0][0].reshape(28,28),\"gray\")\n",
    "    ax2.imshow(sample[0][1].reshape(28,28),\"gray\")\n",
    "    ax3.imshow(sample[0][2].reshape(28,28),\"gray\")\n",
    "    \n",
    "for i in range(5000,5002):\n",
    "    sample = triplet_test_loader.dataset[i]\n",
    "    fig1, (ax1, ax2, ax3) = plt.subplots(nrows=1, ncols=3) \n",
    "    plt.title(\"dp: \" + str(difference_coeffs[i][0])+ \" dn: \" + str(difference_coeffs[i][1]))\n",
    "    ax1.imshow(sample[0][0].reshape(28,28),\"gray\")\n",
    "    ax2.imshow(sample[0][1].reshape(28,28),\"gray\")\n",
    "    ax3.imshow(sample[0][2].reshape(28,28),\"gray\")\n",
    "    \n",
    "for i in range(6000,6002):\n",
    "    sample = triplet_test_loader.dataset[i]\n",
    "    fig1, (ax1, ax2, ax3) = plt.subplots(nrows=1, ncols=3) \n",
    "    plt.title(\"dp: \" + str(difference_coeffs[i][0])+ \" dn: \" + str(difference_coeffs[i][1]))\n",
    "    ax1.imshow(sample[0][0].reshape(28,28),\"gray\")\n",
    "    ax2.imshow(sample[0][1].reshape(28,28),\"gray\")\n",
    "    ax3.imshow(sample[0][2].reshape(28,28),\"gray\")\n",
    "    \n",
    "for i in range(7000,7002):\n",
    "    sample = triplet_test_loader.dataset[i]\n",
    "    fig1, (ax1, ax2, ax3) = plt.subplots(nrows=1, ncols=3) \n",
    "    plt.title(\"dp: \" + str(difference_coeffs[i][0])+ \" dn: \" + str(difference_coeffs[i][1]))\n",
    "    ax1.imshow(sample[0][0].reshape(28,28),\"gray\")\n",
    "    ax2.imshow(sample[0][1].reshape(28,28),\"gray\")\n",
    "    ax3.imshow(sample[0][2].reshape(28,28),\"gray\")\n",
    "    \n",
    "for i in range(8000,8002):\n",
    "    sample = triplet_test_loader.dataset[i]\n",
    "    fig1, (ax1, ax2, ax3) = plt.subplots(nrows=1, ncols=3) \n",
    "    plt.title(\"dp: \" + str(difference_coeffs[i][0])+ \" dn: \" + str(difference_coeffs[i][1]))\n",
    "    ax1.imshow(sample[0][0].reshape(28,28),\"gray\")\n",
    "    ax2.imshow(sample[0][1].reshape(28,28),\"gray\")\n",
    "    ax3.imshow(sample[0][2].reshape(28,28),\"gray\")\n",
    "    \n",
    "for i in range(9000,9002):\n",
    "    sample = triplet_test_loader.dataset[i]\n",
    "    fig1, (ax1, ax2, ax3) = plt.subplots(nrows=1, ncols=3) \n",
    "    plt.title(\"dp: \" + str(difference_coeffs[i][0])+ \" dn: \" + str(difference_coeffs[i][1]))\n",
    "    ax1.imshow(sample[0][0].reshape(28,28),\"gray\")\n",
    "    ax2.imshow(sample[0][1].reshape(28,28),\"gray\")\n",
    "    ax3.imshow(sample[0][2].reshape(28,28),\"gray\")"
   ]
  },
  {
   "cell_type": "markdown",
   "metadata": {},
   "source": [
    "# Visualize Predictions\n",
    "Based on our results, we can set thresolds as \n",
    "positive distance = 0.5 \n",
    "negative distance = 1\n",
    "similar images will have the siamese distance < 0.5 and different ones will give a greater distance i.e > 1"
   ]
  },
  {
   "cell_type": "code",
   "execution_count": null,
   "metadata": {},
   "outputs": [],
   "source": [
    "threshold_positive = 0.5\n",
    "threshold_negative = 1"
   ]
  },
  {
   "cell_type": "code",
   "execution_count": null,
   "metadata": {},
   "outputs": [],
   "source": [
    "# print(difference_coeffs.shape)\n",
    "predictions = np.array([])\n",
    "targets = np.array([])\n",
    "for x in difference_coeffs:\n",
    "    #positive\n",
    "    targets = np.append(targets,1)\n",
    "    if(x[0][0] <= threshold_positive ):\n",
    "        predictions = np.append(predictions,1)\n",
    "    else:\n",
    "        predictions = np.append(predictions,0)\n",
    "    #negative\n",
    "    targets = np.append(targets,0)\n",
    "    if(x[0][1] >= threshold_positive ):\n",
    "        predictions = np.append(predictions,0)\n",
    "    else:\n",
    "        predictions = np.append(predictions,1)\n",
    "\n",
    "        \n",
    "accuracy = len(predictions[predictions == 1])/len(predictions)"
   ]
  },
  {
   "cell_type": "code",
   "execution_count": null,
   "metadata": {},
   "outputs": [],
   "source": [
    "from sklearn.metrics import confusion_matrix\n",
    "cf = confusion_matrix(targets, predictions)"
   ]
  },
  {
   "cell_type": "code",
   "execution_count": null,
   "metadata": {},
   "outputs": [],
   "source": [
    "import seaborn as sns\n",
    "sns.heatmap(cf, annot=True)"
   ]
  },
  {
   "cell_type": "code",
   "execution_count": null,
   "metadata": {},
   "outputs": [],
   "source": [
    "print(model)"
   ]
  }
 ],
 "metadata": {
  "kernelspec": {
   "display_name": "Python 3",
   "language": "python",
   "name": "python3"
  },
  "language_info": {
   "codemirror_mode": {
    "name": "ipython",
    "version": 3
   },
   "file_extension": ".py",
   "mimetype": "text/x-python",
   "name": "python",
   "nbconvert_exporter": "python",
   "pygments_lexer": "ipython3",
   "version": "3.7.0"
  }
 },
 "nbformat": 4,
 "nbformat_minor": 4
}
